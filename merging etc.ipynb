{
 "cells": [
  {
   "cell_type": "code",
   "execution_count": 0,
   "metadata": {
    "application/vnd.databricks.v1+cell": {
     "cellMetadata": {
      "byteLimit": 2048000,
      "rowLimit": 10000
     },
     "inputWidgets": {},
     "nuid": "5972188f-893d-4f13-b9c1-07ac00a67f65",
     "showTitle": false,
     "title": ""
    }
   },
   "outputs": [
    {
     "output_type": "execute_result",
     "data": {
      "text/plain": [
       "True"
      ]
     },
     "execution_count": 80,
     "metadata": {},
     "output_type": "execute_result"
    }
   ],
   "source": [
    "from pyspark.sql import SparkSession\n",
    "spark=SparkSession.builder.appName(\"sep13\").getOrCreate()\n",
    "dbutils.fs.cp(\"File:/Workspace/Shared/sales_data.csv\",\"dbfs:/FileStore/sales_data.csv\")\n",
    "dbutils.fs.cp(\"File:/Workspace/Shared/customer_data.json\",\"dbfs:/FileStore/customer_data.json\")\n",
    "dbutils.fs.cp(\"File:/Workspace/Shared/new_sales_data.csv\",\"dbfs:/FileStore/new_sales_data.csv\")\n"
   ]
  },
  {
   "cell_type": "code",
   "execution_count": 0,
   "metadata": {
    "application/vnd.databricks.v1+cell": {
     "cellMetadata": {
      "byteLimit": 2048000,
      "rowLimit": 10000
     },
     "inputWidgets": {},
     "nuid": "bc0099b3-3d88-4c71-a5a0-cf1b37f0a92e",
     "showTitle": false,
     "title": ""
    }
   },
   "outputs": [],
   "source": [
    "df_sales_data=spark.read.format(\"csv\").option(\"header\",\"true\").load(\"dbfs:/FileStore/sales_data.csv\")\n",
    "df_sales_data.write.format(\"delta\").mode(\"overwrite\").save(\"dbfs:/FileStore/delta/delta_sales_data\")"
   ]
  },
  {
   "cell_type": "code",
   "execution_count": 0,
   "metadata": {
    "application/vnd.databricks.v1+cell": {
     "cellMetadata": {
      "byteLimit": 2048000,
      "rowLimit": 10000
     },
     "inputWidgets": {},
     "nuid": "c74a2e2b-f5a9-475b-a859-edb86579d410",
     "showTitle": false,
     "title": ""
    }
   },
   "outputs": [],
   "source": [
    "df_customer_data=spark.read.format(\"json\").option(\"multiline\",\"true\").load(\"dbfs:/FileStore/customer_data.json\")\n",
    "df_customer_data.write.format(\"delta\").mode(\"overwrite\").save(\"dbfs:/FileStore/delta/delta_customer_data\")\n"
   ]
  },
  {
   "cell_type": "code",
   "execution_count": 0,
   "metadata": {
    "application/vnd.databricks.v1+cell": {
     "cellMetadata": {
      "byteLimit": 2048000,
      "rowLimit": 10000
     },
     "inputWidgets": {},
     "nuid": "416e62a7-acae-4403-8cde-3b815271c697",
     "showTitle": false,
     "title": ""
    }
   },
   "outputs": [],
   "source": [
    "df_new_sales_data=spark.read.format(\"csv\").option(\"header\",\"true\").load(\"dbfs:/FileStore/new_sales_data.csv\")\n",
    "df_new_sales_data.write.format(\"delta\").mode(\"overwrite\").save(\"dbfs:/FileStore/delta/delta_new_sales_data\")"
   ]
  },
  {
   "cell_type": "code",
   "execution_count": 0,
   "metadata": {
    "application/vnd.databricks.v1+cell": {
     "cellMetadata": {
      "byteLimit": 2048000,
      "rowLimit": 10000
     },
     "inputWidgets": {},
     "nuid": "c4cc3555-3fbb-4c50-99bb-6e8a65f60e66",
     "showTitle": false,
     "title": ""
    }
   },
   "outputs": [],
   "source": [
    "df_sales_data=spark.read.format(\"delta\").load(\"dbfs:/FileStore/delta/delta_sales_data\")\n",
    "df_new_sales_data=spark.read.format(\"delta\").load(\"dbfs:/FileStore/delta/delta_new_sales_data\")"
   ]
  },
  {
   "cell_type": "code",
   "execution_count": 0,
   "metadata": {
    "application/vnd.databricks.v1+cell": {
     "cellMetadata": {
      "byteLimit": 2048000,
      "rowLimit": 10000
     },
     "inputWidgets": {},
     "nuid": "48e97922-e872-4f18-ab7a-0792d56f41e4",
     "showTitle": false,
     "title": ""
    }
   },
   "outputs": [
    {
     "output_type": "execute_result",
     "data": {
      "text/plain": [
       "'\\n MERGE INTO delta_sales_data AS target\\nUSING delta_new_sales_data AS source\\nON target.OrderID = source.OrderID\\nWHEN MATCHED THEN UPDATE SET\\n    target.Quantity = source.Quantity\\nWHEN NOT MATCHED THEN INSERT\\n(\\n    OrderID, OrderDate, CustomerID, Product, Quantity, Price\\n)\\nVALUES (\\n    source.OrderID, source.OrderDate, source.CustomerID, source.Product, source.Quantity, source.Price\\n)\\n'"
      ]
     },
     "execution_count": 106,
     "metadata": {},
     "output_type": "execute_result"
    }
   ],
   "source": [
    "df_sales_data.createOrReplaceTempView(\"delta_sales_data\") \n",
    "df_new_sales_data.createOrReplaceTempView(\"delta_new_sales_data\")\n",
    "\n",
    "spark.sql\n",
    "(\"\"\"\n",
    " MERGE INTO delta_sales_data AS target\n",
    "USING delta_new_sales_data AS source\n",
    "ON target.OrderID = source.OrderID\n",
    "WHEN MATCHED THEN UPDATE SET\n",
    "    target.Quantity = source.Quantity\n",
    "WHEN NOT MATCHED THEN INSERT\n",
    "(\n",
    "    OrderID, OrderDate, CustomerID, Product, Quantity, Price\n",
    ")\n",
    "VALUES (\n",
    "    source.OrderID, source.OrderDate, source.CustomerID, source.Product, source.Quantity, source.Price\n",
    ")\n",
    "\"\"\")"
   ]
  },
  {
   "cell_type": "code",
   "execution_count": 0,
   "metadata": {
    "application/vnd.databricks.v1+cell": {
     "cellMetadata": {
      "byteLimit": 2048000,
      "rowLimit": 10000
     },
     "inputWidgets": {},
     "nuid": "4b7c46e9-9083-4f28-b321-9bd48db52220",
     "showTitle": false,
     "title": ""
    }
   },
   "outputs": [
    {
     "output_type": "stream",
     "name": "stdout",
     "output_type": "stream",
     "text": [
      "+-------+----------+----------+--------+--------+-----+\n|OrderID| OrderDate|CustomerID| Product|Quantity|Price|\n+-------+----------+----------+--------+--------+-----+\n|   1001|15-01-2024|      C001|Widget A|      10| 25.5|\n|   1003|16-01-2024|      C001|Widget C|       8| 22.5|\n|   1004|17-01-2024|      C003|Widget A|      15| 25.5|\n|   1005|18-01-2024|      C004|Widget D|       7|   30|\n|   1006|19-01-2024|      C002|Widget B|       9|15.75|\n|   1007|20-01-2024|      C005|Widget C|      12| 22.5|\n|   1008|21-01-2024|      C003|Widget A|      10| 25.5|\n|   1002|16-01-2024|      C002|Widget B|      10|15.75|\n|   1009|22-01-2024|      C006|Widget E|      14|   20|\n|   1010|23-01-2024|      C007|Widget F|       6|   35|\n+-------+----------+----------+--------+--------+-----+\n\n+----------+---------+-------+\n|  col_name|data_type|comment|\n+----------+---------+-------+\n|   OrderID|   string|   NULL|\n| OrderDate|   string|   NULL|\n|CustomerID|   string|   NULL|\n|   Product|   string|   NULL|\n|  Quantity|   string|   NULL|\n|     Price|   string|   NULL|\n+----------+---------+-------+\n\n+-------+----------+----------+--------+--------+-----+\n|OrderID| OrderDate|CustomerID| Product|Quantity|Price|\n+-------+----------+----------+--------+--------+-----+\n|   1001|15-01-2024|      C001|Widget A|      10| 25.5|\n|   1003|16-01-2024|      C001|Widget C|       8| 22.5|\n|   1004|17-01-2024|      C003|Widget A|      15| 25.5|\n|   1005|18-01-2024|      C004|Widget D|       7|   30|\n|   1006|19-01-2024|      C002|Widget B|       9|15.75|\n|   1007|20-01-2024|      C005|Widget C|      12| 22.5|\n|   1008|21-01-2024|      C003|Widget A|      10| 25.5|\n|   1002|16-01-2024|      C002|Widget B|      10|15.75|\n|   1009|22-01-2024|      C006|Widget E|      14|   20|\n|   1010|23-01-2024|      C007|Widget F|       6|   35|\n+-------+----------+----------+--------+--------+-----+\n\n+----------+---------+-------+\n|  col_name|data_type|comment|\n+----------+---------+-------+\n|   OrderID|   string|   NULL|\n| OrderDate|   string|   NULL|\n|CustomerID|   string|   NULL|\n|   Product|   string|   NULL|\n|  Quantity|   string|   NULL|\n|     Price|   string|   NULL|\n+----------+---------+-------+\n\n"
     ]
    },
    {
     "output_type": "execute_result",
     "data": {
      "text/plain": [
       "DataFrame[path: string, metrics: struct<numFilesAdded:bigint,numFilesRemoved:bigint,filesAdded:struct<min:bigint,max:bigint,avg:double,totalFiles:bigint,totalSize:bigint>,filesRemoved:struct<min:bigint,max:bigint,avg:double,totalFiles:bigint,totalSize:bigint>,partitionsOptimized:bigint,zOrderStats:struct<strategyName:string,inputCubeFiles:struct<num:bigint,size:bigint>,inputOtherFiles:struct<num:bigint,size:bigint>,inputNumCubes:bigint,mergedFiles:struct<num:bigint,size:bigint>,numOutputCubes:bigint,mergedNumCubes:bigint>,clusteringStats:struct<inputZCubeFiles:struct<numFiles:bigint,size:bigint>,inputOtherFiles:struct<numFiles:bigint,size:bigint>,inputNumZCubes:bigint,mergedFiles:struct<numFiles:bigint,size:bigint>,numOutputZCubes:bigint>,numBins:bigint,numBatches:bigint,totalConsideredFiles:bigint,totalFilesSkipped:bigint,preserveInsertionOrder:boolean,numFilesSkippedToReduceWriteAmplification:bigint,numBytesSkippedToReduceWriteAmplification:bigint,startTimeMs:bigint,endTimeMs:bigint,totalClusterParallelism:bigint,totalScheduledTasks:bigint,autoCompactParallelismStats:struct<maxClusterActiveParallelism:bigint,minClusterActiveParallelism:bigint,maxSessionActiveParallelism:bigint,minSessionActiveParallelism:bigint>,deletionVectorStats:struct<numDeletionVectorsRemoved:bigint,numDeletionVectorRowsRemoved:bigint>,numTableColumns:bigint,numTableColumnsWithStats:bigint,totalTaskExecutionTimeMs:bigint,skippedArchivedFiles:bigint,clusteringMetrics:struct<sizeOfTableInBytesBeforeLazyClustering:bigint,isNewMetadataCreated:boolean,isPOTriggered:boolean,numFilesSkippedWithoutStats:bigint,numFilesClassifiedToIntermediateNodes:bigint,sizeOfFilesClassifiedToIntermediateNodesInBytes:bigint,logicalSizeOfFilesClassifiedToIntermediateNodesInBytes:bigint,numFilesClassifiedToLeafNodes:bigint,sizeOfFilesClassifiedToLeafNodesInBytes:bigint,logicalSizeOfFilesClassifiedToLeafNodesInBytes:bigint,numThreadsForClassifier:int,clusterThresholdStrategy:string,minFileSize:bigint,maxFileSize:bigint,nodeMinNumFilesToCompact:bigint,numIdealFiles:bigint,numClusteringTasksPlanned:int,numCompactionTasksPlanned:int,numOptimizeBatchesPlanned:int,numLeafNodesExpanded:bigint,numLeafNodesClustered:bigint,numGetFilesForNodeCalls:bigint,numSamplingJobs:bigint,numLeafNodesCompacted:bigint,numIntermediateNodesCompacted:bigint,totalSizeOfDataToCompactInBytes:bigint,totalLogicalSizeOfDataToCompactInBytes:bigint,numIntermediateNodesClustered:bigint,numFilesSkippedAfterExpansion:bigint,totalSizeOfFilesSkippedAfterExpansionInBytes:bigint,totalLogicalSizeOfFilesSkippedAfterExpansionInBytes:bigint,totalSizeOfDataToRewriteInBytes:bigint,totalLogicalSizeOfDataToRewriteInBytes:bigint,timeMetrics:struct<classifierTimeMs:bigint,optimizerTimeMs:bigint,metadataLoadTimeMs:bigint,totalGetFilesForNodeCallsTimeMs:bigint,totalSamplingTimeMs:bigint,metadataCreationTimeMs:bigint>,maxOptimizeBatchesInParallel:bigint,currentIteration:int,maxIterations:int,clusteringStrategy:string>>]"
      ]
     },
     "execution_count": 107,
     "metadata": {},
     "output_type": "execute_result"
    }
   ],
   "source": [
    "spark.sql(\"select * from delta_sales_data\") .show()  \n",
    "spark.sql(\"describe delta_sales_data\").show()\n",
    "spark.sql(\"create table if not exists delta_sales_table as select * from delta_sales_data\")\n",
    "spark.sql(\"select * from delta_sales_table\").show()\n",
    "spark.sql(\"describe delta_sales_table\").show()\n",
    "spark.sql(\"OPTIMIZE delta_sales_table ZORDER BY (OrderID)\")"
   ]
  },
  {
   "cell_type": "code",
   "execution_count": 0,
   "metadata": {
    "application/vnd.databricks.v1+cell": {
     "cellMetadata": {
      "byteLimit": 2048000,
      "rowLimit": 10000
     },
     "inputWidgets": {},
     "nuid": "adf41b36-c2b9-4a59-b90d-873e286e2490",
     "showTitle": false,
     "title": ""
    }
   },
   "outputs": [
    {
     "output_type": "stream",
     "name": "stdout",
     "output_type": "stream",
     "text": [
      "+-------+-------------------+----------------+----------------------------------+----------------------+--------------------------------------------------------------------------------------------------------------------------------------------------------+----+------------------+--------------------+-----------+-----------------+-------------+------------------------------------------------------------+------------+------------------------------------------+\n|version|timestamp          |userId          |userName                          |operation             |operationParameters                                                                                                                                     |job |notebook          |clusterId           |readVersion|isolationLevel   |isBlindAppend|operationMetrics                                            |userMetadata|engineInfo                                |\n+-------+-------------------+----------------+----------------------------------+----------------------+--------------------------------------------------------------------------------------------------------------------------------------------------------+----+------------------+--------------------+-----------+-----------------+-------------+------------------------------------------------------------+------------+------------------------------------------+\n|0      |2024-09-13 07:43:54|8031057364569172|azuser2143_mml.local@techademy.com|CREATE TABLE AS SELECT|{partitionBy -> [], clusterBy -> [], description -> NULL, isManaged -> true, properties -> {\"delta.enableDeletionVectors\":\"true\"}, statsOnLoad -> false}|NULL|{4477563974882031}|0911-163906-ujv73lo0|NULL       |WriteSerializable|true         |{numFiles -> 1, numOutputRows -> 10, numOutputBytes -> 1784}|NULL        |Databricks-Runtime/15.4.x-photon-scala2.12|\n+-------+-------------------+----------------+----------------------------------+----------------------+--------------------------------------------------------------------------------------------------------------------------------------------------------+----+------------------+--------------------+-----------+-----------------+-------------+------------------------------------------------------------+------------+------------------------------------------+\n\n"
     ]
    }
   ],
   "source": [
    "spark.sql(\"Describe History delta_sales_table\").show(truncate=False)"
   ]
  },
  {
   "cell_type": "code",
   "execution_count": 0,
   "metadata": {
    "application/vnd.databricks.v1+cell": {
     "cellMetadata": {
      "byteLimit": 2048000,
      "rowLimit": 10000
     },
     "inputWidgets": {},
     "nuid": "cab3cce1-c021-4e57-9b54-7a0fcd97286c",
     "showTitle": false,
     "title": ""
    }
   },
   "outputs": [
    {
     "output_type": "execute_result",
     "data": {
      "text/plain": [
       "DataFrame[path: string]"
      ]
     },
     "execution_count": 110,
     "metadata": {},
     "output_type": "execute_result"
    }
   ],
   "source": [
    "spark.sql(\"vacuum delta_sales_table retain 170  hours\")"
   ]
  },
  {
   "cell_type": "code",
   "execution_count": 0,
   "metadata": {
    "application/vnd.databricks.v1+cell": {
     "cellMetadata": {
      "byteLimit": 2048000,
      "rowLimit": 10000
     },
     "inputWidgets": {},
     "nuid": "71dc6f7d-39d6-4afe-9963-7235f6fd6a69",
     "showTitle": false,
     "title": ""
    }
   },
   "outputs": [
    {
     "output_type": "execute_result",
     "data": {
      "text/plain": [
       "DataFrame[]"
      ]
     },
     "execution_count": 112,
     "metadata": {},
     "output_type": "execute_result"
    }
   ],
   "source": [
    "spark.sql(\"RESTORE TABLE delta_sales_table TO VERSION AS OF 2;\")"
   ]
  },
  {
   "cell_type": "code",
   "execution_count": 0,
   "metadata": {
    "application/vnd.databricks.v1+cell": {
     "cellMetadata": {
      "byteLimit": 2048000,
      "implicitDf": true,
      "rowLimit": 10000
     },
     "inputWidgets": {},
     "nuid": "88001d17-a1e2-48a2-82e3-3cb4679c7635",
     "showTitle": false,
     "title": ""
    }
   },
   "outputs": [
    {
     "output_type": "display_data",
     "data": {
      "text/html": [
       "<style scoped>\n",
       "  .table-result-container {\n",
       "    max-height: 300px;\n",
       "    overflow: auto;\n",
       "  }\n",
       "  table, th, td {\n",
       "    border: 1px solid black;\n",
       "    border-collapse: collapse;\n",
       "  }\n",
       "  th, td {\n",
       "    padding: 5px;\n",
       "  }\n",
       "  th {\n",
       "    text-align: left;\n",
       "  }\n",
       "</style><div class='table-result-container'><table class='table-result'><thead style='background-color: white'><tr></tr></thead><tbody></tbody></table></div>"
      ]
     },
     "metadata": {
      "application/vnd.databricks.v1+output": {
       "addedWidgets": {},
       "aggData": [],
       "aggError": "",
       "aggOverflow": false,
       "aggSchema": [],
       "aggSeriesLimitReached": false,
       "aggType": "",
       "arguments": {},
       "columnCustomDisplayInfos": {},
       "data": [],
       "datasetInfos": [],
       "dbfsResultPath": null,
       "isJsonSchema": true,
       "metadata": {
        "dataframeName": null
       },
       "overflow": false,
       "plotOptions": {
        "customPlotOptions": {},
        "displayType": "table",
        "pivotAggregation": null,
        "pivotColumns": null,
        "xColumns": null,
        "yColumns": null
       },
       "removedWidgets": [],
       "schema": [],
       "type": "table"
      }
     },
     "output_type": "display_data"
    }
   ],
   "source": [
    "%sql\n",
    "create table managed_tabel(\n",
    "  id INT,\n",
    "  name String\n",
    ");"
   ]
  },
  {
   "cell_type": "code",
   "execution_count": 0,
   "metadata": {
    "application/vnd.databricks.v1+cell": {
     "cellMetadata": {
      "byteLimit": 2048000,
      "implicitDf": true,
      "rowLimit": 10000
     },
     "inputWidgets": {},
     "nuid": "c4d2dd2f-3004-46e8-af1e-8935f9ba111d",
     "showTitle": false,
     "title": ""
    }
   },
   "outputs": [
    {
     "output_type": "display_data",
     "data": {
      "text/html": [
       "<style scoped>\n",
       "  .table-result-container {\n",
       "    max-height: 300px;\n",
       "    overflow: auto;\n",
       "  }\n",
       "  table, th, td {\n",
       "    border: 1px solid black;\n",
       "    border-collapse: collapse;\n",
       "  }\n",
       "  th, td {\n",
       "    padding: 5px;\n",
       "  }\n",
       "  th {\n",
       "    text-align: left;\n",
       "  }\n",
       "</style><div class='table-result-container'><table class='table-result'><thead style='background-color: white'><tr></tr></thead><tbody></tbody></table></div>"
      ]
     },
     "metadata": {
      "application/vnd.databricks.v1+output": {
       "addedWidgets": {},
       "aggData": [],
       "aggError": "",
       "aggOverflow": false,
       "aggSchema": [],
       "aggSeriesLimitReached": false,
       "aggType": "",
       "arguments": {},
       "columnCustomDisplayInfos": {},
       "data": [],
       "datasetInfos": [],
       "dbfsResultPath": null,
       "isJsonSchema": true,
       "metadata": {
        "dataframeName": null
       },
       "overflow": false,
       "plotOptions": {
        "customPlotOptions": {},
        "displayType": "table",
        "pivotAggregation": null,
        "pivotColumns": null,
        "xColumns": null,
        "yColumns": null
       },
       "removedWidgets": [],
       "schema": [],
       "type": "table"
      }
     },
     "output_type": "display_data"
    }
   ],
   "source": [
    "%sql\n",
    "create external table external_table(\n",
    "  id INT,\n",
    "  name string\n",
    ")\n",
    "Location '/user/data/external_data';"
   ]
  }
 ],
 "metadata": {
  "application/vnd.databricks.v1+notebook": {
   "dashboards": [],
   "environmentMetadata": null,
   "language": "python",
   "notebookMetadata": {
    "mostRecentlyExecutedCommandWithImplicitDF": {
     "commandId": 4101753706268309,
     "dataframes": [
      "_sqldf"
     ]
    },
    "pythonIndentUnit": 4
   },
   "notebookName": "merging etc",
   "widgets": {}
  }
 },
 "nbformat": 4,
 "nbformat_minor": 0
}
